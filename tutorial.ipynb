{
  "nbformat": 4,
  "nbformat_minor": 0,
  "metadata": {
    "accelerator": "GPU",
    "colab": {
      "name": "loop_tool_demo.ipynb",
      "provenance": [],
      "collapsed_sections": [],
      "include_colab_link": true
    },
    "kernelspec": {
      "display_name": "Python 3",
      "name": "python3"
    },
    "language_info": {
      "name": "python"
    }
  },
  "cells": [
    {
      "cell_type": "markdown",
      "metadata": {
        "id": "view-in-github",
        "colab_type": "text"
      },
      "source": [
        "<a href=\"https://colab.research.google.com/gist/bwasti/a85d3770aa66877c4a9bcf1352ab2c9d/loop_tool_demo.ipynb\" target=\"_parent\"><img src=\"https://colab.research.google.com/assets/colab-badge.svg\" alt=\"Open In Colab\"/></a>"
      ]
    },
    {
      "cell_type": "markdown",
      "metadata": {
        "id": "qXMMJg0xC7nd"
      },
      "source": [
        "# What is `loop_tool`?\n",
        "\n",
        "`loop_tool` is a work-in-progress experimental linear algebra toolkit.  Here's the code: https://github.com/facebookresearch/loop_tool.\n",
        "\n",
        "### Design\n",
        "The frontend is designed to provide an unsurprising lazy and symbolic interaction model.  The backend API focuses on empowering compilers\n",
        "to emit high performance code without requiring an investment in operator coverage.\n",
        "\n",
        "```python\n",
        "def vecmatmul(a, b):\n",
        "  N, K = lt.Symbol(\"N\"), lt.Symbol(\"K\")\n",
        "  return (a.to(K) * b.to(K, N)).sum(K)\n",
        "```\n",
        "\n",
        "By keeping the frontend entirely lazy and symbolic,\n",
        "the user has access to many modern conviences such as\n",
        "an imperative interface and named dimensions.  Backends\n",
        "can perform complex optimizations without needing to\n",
        "hamper the user with language constraints or requiring user provided annotations.\n",
        "\n",
        "### Tutorial below\n",
        "\n",
        "This tutorial is written to review some ideas in the design of `loop_tool`.  Currently there is only an CPU interpreted backend and a simple GPU CUDA backend.  These will continue to be developed with the goal of improving performance and supported arithmetic operations."
      ]
    },
    {
      "cell_type": "code",
      "metadata": {
        "colab": {
          "base_uri": "https://localhost:8080/"
        },
        "id": "msL4YXEv6ThT",
        "outputId": "5442b8bd-b565-4694-e403-0736996a9d0b"
      },
      "source": [
        "!pip install loop_tool_py numpy"
      ],
      "execution_count": null,
      "outputs": [
        {
          "output_type": "stream",
          "name": "stdout",
          "text": [
            "Collecting loop_tool_py\n",
            "  Downloading loop_tool_py-0.0.8-3-cp37-cp37m-manylinux_2_24_x86_64.whl (378 kB)\n",
            "\u001b[?25l\r\u001b[K     |▉                               | 10 kB 19.9 MB/s eta 0:00:01\r\u001b[K     |█▊                              | 20 kB 25.9 MB/s eta 0:00:01\r\u001b[K     |██▋                             | 30 kB 25.0 MB/s eta 0:00:01\r\u001b[K     |███▌                            | 40 kB 19.3 MB/s eta 0:00:01\r\u001b[K     |████▎                           | 51 kB 15.7 MB/s eta 0:00:01\r\u001b[K     |█████▏                          | 61 kB 12.4 MB/s eta 0:00:01\r\u001b[K     |██████                          | 71 kB 12.8 MB/s eta 0:00:01\r\u001b[K     |███████                         | 81 kB 14.1 MB/s eta 0:00:01\r\u001b[K     |███████▉                        | 92 kB 14.6 MB/s eta 0:00:01\r\u001b[K     |████████▋                       | 102 kB 13.6 MB/s eta 0:00:01\r\u001b[K     |█████████▌                      | 112 kB 13.6 MB/s eta 0:00:01\r\u001b[K     |██████████▍                     | 122 kB 13.6 MB/s eta 0:00:01\r\u001b[K     |███████████▎                    | 133 kB 13.6 MB/s eta 0:00:01\r\u001b[K     |████████████                    | 143 kB 13.6 MB/s eta 0:00:01\r\u001b[K     |█████████████                   | 153 kB 13.6 MB/s eta 0:00:01\r\u001b[K     |█████████████▉                  | 163 kB 13.6 MB/s eta 0:00:01\r\u001b[K     |██████████████▊                 | 174 kB 13.6 MB/s eta 0:00:01\r\u001b[K     |███████████████▋                | 184 kB 13.6 MB/s eta 0:00:01\r\u001b[K     |████████████████▍               | 194 kB 13.6 MB/s eta 0:00:01\r\u001b[K     |█████████████████▎              | 204 kB 13.6 MB/s eta 0:00:01\r\u001b[K     |██████████████████▏             | 215 kB 13.6 MB/s eta 0:00:01\r\u001b[K     |███████████████████             | 225 kB 13.6 MB/s eta 0:00:01\r\u001b[K     |████████████████████            | 235 kB 13.6 MB/s eta 0:00:01\r\u001b[K     |████████████████████▊           | 245 kB 13.6 MB/s eta 0:00:01\r\u001b[K     |█████████████████████▋          | 256 kB 13.6 MB/s eta 0:00:01\r\u001b[K     |██████████████████████▌         | 266 kB 13.6 MB/s eta 0:00:01\r\u001b[K     |███████████████████████▍        | 276 kB 13.6 MB/s eta 0:00:01\r\u001b[K     |████████████████████████▏       | 286 kB 13.6 MB/s eta 0:00:01\r\u001b[K     |█████████████████████████       | 296 kB 13.6 MB/s eta 0:00:01\r\u001b[K     |██████████████████████████      | 307 kB 13.6 MB/s eta 0:00:01\r\u001b[K     |██████████████████████████▉     | 317 kB 13.6 MB/s eta 0:00:01\r\u001b[K     |███████████████████████████▊    | 327 kB 13.6 MB/s eta 0:00:01\r\u001b[K     |████████████████████████████▌   | 337 kB 13.6 MB/s eta 0:00:01\r\u001b[K     |█████████████████████████████▍  | 348 kB 13.6 MB/s eta 0:00:01\r\u001b[K     |██████████████████████████████▎ | 358 kB 13.6 MB/s eta 0:00:01\r\u001b[K     |███████████████████████████████▏| 368 kB 13.6 MB/s eta 0:00:01\r\u001b[K     |████████████████████████████████| 378 kB 13.6 MB/s \n",
            "\u001b[?25hRequirement already satisfied: numpy in /usr/local/lib/python3.7/dist-packages (1.19.5)\n",
            "Collecting pybind11\n",
            "  Downloading pybind11-2.8.0-py2.py3-none-any.whl (207 kB)\n",
            "\u001b[K     |████████████████████████████████| 207 kB 55.7 MB/s \n",
            "\u001b[?25hInstalling collected packages: pybind11, loop-tool-py\n",
            "Successfully installed loop-tool-py-0.0.8 pybind11-2.8.0\n"
          ]
        }
      ]
    },
    {
      "cell_type": "code",
      "metadata": {
        "colab": {
          "base_uri": "https://localhost:8080/"
        },
        "id": "hvNHdfKJ6U-T",
        "outputId": "b970039b-443e-49f6-dd62-b4e4a1ee5d87"
      },
      "source": [
        "import loop_tool_py as lt\n",
        "import numpy as np\n",
        "\n",
        "print(lt.backends())"
      ],
      "execution_count": null,
      "outputs": [
        {
          "output_type": "stream",
          "name": "stdout",
          "text": [
            "['cpu', 'cuda']\n"
          ]
        }
      ]
    },
    {
      "cell_type": "markdown",
      "metadata": {
        "id": "j7nfE7Xfq3XG"
      },
      "source": [
        "First, we load up `loop_tool` and `numpy`.\n",
        "\n",
        "If only `'cpu'` is availabe, click \"Runtime > Change runtime type\" and select Hardware accelerator > GPU and rerun the first two cells."
      ]
    },
    {
      "cell_type": "code",
      "metadata": {
        "colab": {
          "base_uri": "https://localhost:8080/"
        },
        "id": "uXWfF5TQ6cYs",
        "outputId": "0a44ee16-a468-42dd-f1dd-d44f42938c98"
      },
      "source": [
        "a = lt.Tensor(128)\n",
        "b = lt.Tensor(128)\n",
        "\n",
        "a.set(np.ones(128))\n",
        "b.set(np.ones(128))\n",
        "c = a + b\n",
        "\n",
        "print(c.numpy())\n",
        "print(c.shape)"
      ],
      "execution_count": null,
      "outputs": [
        {
          "output_type": "stream",
          "name": "stdout",
          "text": [
            "[[2. 2. 2. ... 2. 2. 2.]\n",
            " [2. 2. 2. ... 2. 2. 2.]\n",
            " [2. 2. 2. ... 2. 2. 2.]\n",
            " ...\n",
            " [2. 2. 2. ... 2. 2. 2.]\n",
            " [2. 2. 2. ... 2. 2. 2.]\n",
            " [2. 2. 2. ... 2. 2. 2.]]\n",
            "[128, 128]\n"
          ]
        }
      ]
    },
    {
      "cell_type": "markdown",
      "metadata": {
        "id": "fugaXc5P-TME"
      },
      "source": [
        "Wait, what?\n",
        "\n",
        "Pointwise addition doesn't seem to work as expected.  `c` isn't a flat tensor of size 128, but rather a 2d tensor of shape (128, 128).\n",
        "\n",
        "Every dimension in `loop_tool` is named.\n",
        "Since we didn't explicitly name the dimensions of `a` and `b`, it assumes they operate on different dimensions.  As a result, it broadcasts\n",
        "`a` into (128, 128) and `b` into (128, 128) before doing the addition.\n",
        "\n",
        "Rather than specifying names upfront, which can become difficult to plan,\n",
        "`loop_tool` exposes an idea of renaming.  Using `lt.Symbol`s and the `to()` method, we can rename tensor dimensions on the fly:"
      ]
    },
    {
      "cell_type": "code",
      "metadata": {
        "colab": {
          "base_uri": "https://localhost:8080/"
        },
        "id": "NlUJE9_K8YuR",
        "outputId": "8d9fc5d5-9007-4b1a-90c5-981a92e3004e"
      },
      "source": [
        "N = lt.Symbol(\"N\")\n",
        "c = a.to(N) + b.to(N)\n",
        "print(c.numpy())\n",
        "print(c.shape)"
      ],
      "execution_count": null,
      "outputs": [
        {
          "output_type": "stream",
          "name": "stdout",
          "text": [
            "[2. 2. 2. 2. 2. 2. 2. 2. 2. 2. 2. 2. 2. 2. 2. 2. 2. 2. 2. 2. 2. 2. 2. 2.\n",
            " 2. 2. 2. 2. 2. 2. 2. 2. 2. 2. 2. 2. 2. 2. 2. 2. 2. 2. 2. 2. 2. 2. 2. 2.\n",
            " 2. 2. 2. 2. 2. 2. 2. 2. 2. 2. 2. 2. 2. 2. 2. 2. 2. 2. 2. 2. 2. 2. 2. 2.\n",
            " 2. 2. 2. 2. 2. 2. 2. 2. 2. 2. 2. 2. 2. 2. 2. 2. 2. 2. 2. 2. 2. 2. 2. 2.\n",
            " 2. 2. 2. 2. 2. 2. 2. 2. 2. 2. 2. 2. 2. 2. 2. 2. 2. 2. 2. 2. 2. 2. 2. 2.\n",
            " 2. 2. 2. 2. 2. 2. 2. 2.]\n",
            "[128]\n"
          ]
        }
      ]
    },
    {
      "cell_type": "markdown",
      "metadata": {
        "id": "PihuJtxwAU-s"
      },
      "source": [
        "With implicit broadcasting and on-the-fly renaming, we can define more complex operations.  For example, a matrix multiplication:"
      ]
    },
    {
      "cell_type": "code",
      "metadata": {
        "colab": {
          "base_uri": "https://localhost:8080/"
        },
        "id": "EMLT_wm7_BUM",
        "outputId": "50981767-7194-48a1-c46f-95c7e2f338c7"
      },
      "source": [
        "def mm(a, b):\n",
        "  M, N, K = lt.Symbol(\"M\"), lt.Symbol(\"N\"), lt.Symbol(\"K\")\n",
        "  c = a.to(M, K) * b.to(K, N)\n",
        "  return c.sum(K)\n",
        "\n",
        "x = lt.Tensor(128,128)\n",
        "y = lt.Tensor(128,128)\n",
        "x.set(np.random.randn(128,128))\n",
        "y.set(np.random.randn(128,128))\n",
        "\n",
        "z = mm(x, y)\n",
        "z_ref = x.numpy() @ y.numpy()\n",
        "print(\"max error\", np.max(np.abs(z.numpy() - z_ref)))"
      ],
      "execution_count": null,
      "outputs": [
        {
          "output_type": "stream",
          "name": "stdout",
          "text": [
            "max error 1.5258789e-05\n"
          ]
        }
      ]
    },
    {
      "cell_type": "markdown",
      "metadata": {
        "id": "hKSSWlf0BRMu"
      },
      "source": [
        "The above matrix multiplication broadcasts the inputs, which are both (128, 128), into an intermediate result (128, 128, 128) and then sums over\n",
        "the K dimension.\n",
        "\n",
        "Symbolic naming is a large part of the `loop_tool` design.  We can go beyond implicit broadcasting by introducing \"views\" that map indices symbolically.\n",
        "Note that a view in `loop_tool` differs from a view in frameworks like numpy and PyTorch due to the symbolic nature.\n",
        "\n",
        "For example, a 1d convolution (err \"correlation\")."
      ]
    },
    {
      "cell_type": "code",
      "metadata": {
        "colab": {
          "base_uri": "https://localhost:8080/"
        },
        "id": "w2R5x6goGBy4",
        "outputId": "bbff03df-010f-4b2d-f553-9ef43a9aa317"
      },
      "source": [
        "def conv(x, w):\n",
        "  Ni, No, K = lt.Symbol(\"Ni\"), lt.Symbol(\"No\"), lt.Symbol(\"K\")\n",
        "  # quick renames\n",
        "  x = x.to(Ni)\n",
        "  w = w.to(K)\n",
        "\n",
        "  # our \"view\" operation gives xcol the shape (No, K)\n",
        "  # by indexing into Ni with the equation No + K.\n",
        "  xcol = x.to(No, K, constraints=[(Ni, No + K)])\n",
        "\n",
        "  return (xcol * w).sum(K)\n",
        "\n",
        "x = lt.Tensor(128)\n",
        "w = lt.Tensor(5)\n",
        "x.set(np.random.randn(128))\n",
        "w.set(np.random.randn(5))\n",
        "\n",
        "y = conv(x, w)\n",
        "y_ref = np.correlate(x.numpy(), w.numpy(), mode=\"valid\")\n",
        "print(\"max error\", np.max(np.abs(z.numpy() - z_ref)))"
      ],
      "execution_count": null,
      "outputs": [
        {
          "output_type": "stream",
          "name": "stdout",
          "text": [
            "max error 1.5258789e-05\n"
          ]
        }
      ]
    },
    {
      "cell_type": "markdown",
      "metadata": {
        "id": "YkPxW_zVF93H"
      },
      "source": [
        "The above implementation of convolution looks a lot like matrix multiplication.  We have a broadcasting multiplication followed by a reduction (by addition).\n",
        "\n",
        "The \"view\" operation is hidden within the `to` call as a `constraint=` parameter.  It makes our 1d (`Ni`) dimension into 2d (`No`, `K`) with the indexing math provided.  It's a symbolic \"im2col\" that gives us the classic \"sweeping\" operation.\n",
        "\n",
        "Because `loop_tool` defines its views symbolically, there are some interesting and potentially useful implications."
      ]
    },
    {
      "cell_type": "code",
      "metadata": {
        "colab": {
          "base_uri": "https://localhost:8080/"
        },
        "id": "VTIHRAc6Ty11",
        "outputId": "da9eb11d-c007-476a-e91c-09b869b4db08"
      },
      "source": [
        "_ = lt.Symbol(\"unknown\")\n",
        "a = lt.Tensor(_)\n",
        "b = lt.Tensor(3)\n",
        "c = lt.Tensor(8)\n",
        "N = lt.Symbol(\"N\")\n",
        "d = (conv(a, b).to(N) * c.to(N)).sum(N)\n",
        "d.unify()\n",
        "print(a.shape)"
      ],
      "execution_count": null,
      "outputs": [
        {
          "output_type": "stream",
          "name": "stdout",
          "text": [
            "[10]\n"
          ]
        }
      ]
    },
    {
      "cell_type": "markdown",
      "metadata": {
        "id": "UDV87B4sTbNB"
      },
      "source": [
        "We can derive input shapes from constraints induced by the operations on the inputs.\n",
        "\n",
        "In this example we have a convolution followed by a pointwise multiplication, which implies our output must be size 8.  The windowed operation is size 3, so the input must be 10.  Since `loop_tool` is secretly lazy, it can figure this out for us before running any computation."
      ]
    },
    {
      "cell_type": "markdown",
      "metadata": {
        "id": "ikU20mU7L26U"
      },
      "source": [
        "# Under the hood\n",
        "\n",
        "The above implementations of matrix multiplication and convolution\n",
        "don't seem very efficient.\n",
        "Broadcasting a (128,128) tensor into (128,128,128) just to do\n",
        "some pointwise multiplication in `mm` is a huge waste of space.  Same for (128) to (128,5) in the case of `conv`.\n",
        "\n",
        "Zooming into the matrix multiplication, we can take a peek under the hood\n",
        "using `z.loop_tree`:\n",
        "\n"
      ]
    },
    {
      "cell_type": "code",
      "metadata": {
        "colab": {
          "base_uri": "https://localhost:8080/"
        },
        "id": "zXric4khBFWl",
        "outputId": "353d55f5-1421-4cf6-f1da-6cb303614482"
      },
      "source": [
        "print(z.loop_tree)"
      ],
      "execution_count": null,
      "outputs": [
        {
          "output_type": "stream",
          "name": "stdout",
          "text": [
            "for M_51 in 128 : L0\n",
            " for K_53 in 128 : L1\n",
            "  %0[M_51, K_53] <- read()\n",
            "  for N_52 in 128 : L3\n",
            "   %1[K_53, N_52] <- read()\n",
            "   %2[M_51, K_53, N_52] <- multiply(%0, %1)\n",
            "   %3[M_51, N_52] <- add(%2)\n",
            " for N_52 in 128 : L7\n",
            "  %4[M_51, N_52] <- write(%3)\n",
            "\n"
          ]
        }
      ]
    },
    {
      "cell_type": "markdown",
      "metadata": {
        "id": "lcFBa0i-RzGG"
      },
      "source": [
        "and, similarly for conv:"
      ]
    },
    {
      "cell_type": "code",
      "metadata": {
        "colab": {
          "base_uri": "https://localhost:8080/"
        },
        "id": "QqiyljMOR2EV",
        "outputId": "746f716a-bd2e-4bd5-f8fb-f1e57006a259"
      },
      "source": [
        "print(y.loop_tree)"
      ],
      "execution_count": null,
      "outputs": [
        {
          "output_type": "stream",
          "name": "stdout",
          "text": [
            "for Ni_88 in 128 : L0\n",
            " %0[Ni_88] <- read()\n",
            "for K_90 in 5 : L2\n",
            " %2[K_90] <- read()\n",
            "for No_89 in 124 : L4\n",
            " for K_90 in 5 : L5\n",
            "  %1[No_89, K_90] <- view(%0)\n",
            "  %3[No_89, K_90] <- multiply(%1, %2)\n",
            "  %4[No_89] <- add(%3)\n",
            " %5[No_89] <- write(%4)\n",
            "\n"
          ]
        }
      ]
    },
    {
      "cell_type": "markdown",
      "metadata": {
        "id": "C7bY-DXGCKTJ"
      },
      "source": [
        "Although the API hides it, `loop_tool` tensors are not really data.  Before calling `z.numpy()`, nothing was computed.  The tensors of `loop_tool` are symbolic computation graphs.  They contain symbolic information that can be used to generate compiled code.\n",
        "\n",
        "The `z.loop_tree` is a result of a simplistic scheduling of the IR.  The IR itself can be viewed as a graphviz file:"
      ]
    },
    {
      "cell_type": "code",
      "metadata": {
        "colab": {
          "base_uri": "https://localhost:8080/",
          "height": 524
        },
        "id": "rXAXrqPbBoQF",
        "outputId": "127c01dd-9a42-4d14-f84c-cda11f01f101"
      },
      "source": [
        "import graphviz\n",
        "g = graphviz.Source(z.ir)\n",
        "g"
      ],
      "execution_count": null,
      "outputs": [
        {
          "output_type": "execute_result",
          "data": {
            "text/plain": [
              "<graphviz.files.Source at 0x7f23484bb590>"
            ],
            "image/svg+xml": "<?xml version=\"1.0\" encoding=\"UTF-8\" standalone=\"no\"?>\n<!DOCTYPE svg PUBLIC \"-//W3C//DTD SVG 1.1//EN\"\n \"http://www.w3.org/Graphics/SVG/1.1/DTD/svg11.dtd\">\n<!-- Generated by graphviz version 2.40.1 (20161225.0304)\n -->\n<!-- Title: G Pages: 1 -->\n<svg width=\"409pt\" height=\"361pt\"\n viewBox=\"0.00 0.00 409.38 361.00\" xmlns=\"http://www.w3.org/2000/svg\" xmlns:xlink=\"http://www.w3.org/1999/xlink\">\n<g id=\"graph0\" class=\"graph\" transform=\"scale(1 1) rotate(0) translate(4 357)\">\n<title>G</title>\n<polygon fill=\"#ffffff\" stroke=\"transparent\" points=\"-4,4 -4,-357 405.3771,-357 405.3771,4 -4,4\"/>\n<!-- vars -->\n<g id=\"node1\" class=\"node\">\n<title>vars</title>\n<polygon fill=\"none\" stroke=\"#000000\" points=\"6.5,-.5 6.5,-36.5 147.5,-36.5 147.5,-.5 6.5,-.5\"/>\n<text text-anchor=\"middle\" x=\"30\" y=\"-15.4\" font-family=\"Courier,monospace\" font-size=\"12.00\" fill=\"#000000\">M_51</text>\n<polyline fill=\"none\" stroke=\"#000000\" points=\"53.5,-.5 53.5,-36.5 \"/>\n<text text-anchor=\"middle\" x=\"77\" y=\"-15.4\" font-family=\"Courier,monospace\" font-size=\"12.00\" fill=\"#000000\">K_53</text>\n<polyline fill=\"none\" stroke=\"#000000\" points=\"100.5,-.5 100.5,-36.5 \"/>\n<text text-anchor=\"middle\" x=\"124\" y=\"-15.4\" font-family=\"Courier,monospace\" font-size=\"12.00\" fill=\"#000000\">N_52</text>\n</g>\n<!-- 0 -->\n<g id=\"node2\" class=\"node\">\n<title>0</title>\n<polygon fill=\"none\" stroke=\"#000000\" points=\"0,-310.5 0,-352.5 114,-352.5 114,-310.5 0,-310.5\"/>\n<text text-anchor=\"middle\" x=\"57\" y=\"-338.9\" font-family=\"Courier,monospace\" font-size=\"12.00\" fill=\"#000000\">read : [M, K]</text>\n<polyline fill=\"none\" stroke=\"#000000\" points=\"0,-331.5 114,-331.5 \"/>\n<text text-anchor=\"middle\" x=\"28.5\" y=\"-317.9\" font-family=\"Courier,monospace\" font-size=\"12.00\" fill=\"#000000\">M:128</text>\n<polyline fill=\"none\" stroke=\"#000000\" points=\"57,-310.5 57,-331.5 \"/>\n<text text-anchor=\"middle\" x=\"85.5\" y=\"-317.9\" font-family=\"Courier,monospace\" font-size=\"12.00\" fill=\"#000000\">K:128</text>\n</g>\n<!-- vars&#45;&gt;0 -->\n<g id=\"edge2\" class=\"edge\">\n<title>vars:0&#45;&gt;0:0</title>\n<path fill=\"none\" stroke=\"#000000\" stroke-dasharray=\"1,5\" d=\"M30,-36.5C30,-52.7769 27.6672,-56.7368 27,-73 26.2166,-92.095 26.9509,-96.889 27,-116 27.2222,-202.4453 28,-224.0544 28,-310.5\"/>\n</g>\n<!-- vars&#45;&gt;0 -->\n<g id=\"edge3\" class=\"edge\">\n<title>vars:1&#45;&gt;0:1</title>\n<path fill=\"none\" stroke=\"#000000\" stroke-dasharray=\"1,5\" d=\"M77,-36.5C77,-88.9092 271.2662,-37.6953 310,-73 350.6086,-110.0135 347.7406,-142.9968 330,-195 315.6774,-236.9841 306.1658,-249.7822 269,-274 213.0062,-310.4865 179.9076,-274.9559 123,-310 117.7664,-313.2229 120.1464,-320.5 114,-320.5\"/>\n</g>\n<!-- 2 -->\n<g id=\"node3\" class=\"node\">\n<title>2</title>\n<polygon fill=\"none\" stroke=\"#000000\" points=\"92.5,-231.5 92.5,-273.5 259.5,-273.5 259.5,-231.5 92.5,-231.5\"/>\n<text text-anchor=\"middle\" x=\"176\" y=\"-259.9\" font-family=\"Courier,monospace\" font-size=\"12.00\" fill=\"#000000\">multiply : [M, K, N]</text>\n<polyline fill=\"none\" stroke=\"#000000\" points=\"92.5,-252.5 259.5,-252.5 \"/>\n<text text-anchor=\"middle\" x=\"120\" y=\"-238.9\" font-family=\"Courier,monospace\" font-size=\"12.00\" fill=\"#000000\">M:128</text>\n<polyline fill=\"none\" stroke=\"#000000\" points=\"147.5,-231.5 147.5,-252.5 \"/>\n<text text-anchor=\"middle\" x=\"175.5\" y=\"-238.9\" font-family=\"Courier,monospace\" font-size=\"12.00\" fill=\"#000000\">K:128</text>\n<polyline fill=\"none\" stroke=\"#000000\" points=\"203.5,-231.5 203.5,-252.5 \"/>\n<text text-anchor=\"middle\" x=\"231.5\" y=\"-238.9\" font-family=\"Courier,monospace\" font-size=\"12.00\" fill=\"#000000\">N:128</text>\n</g>\n<!-- vars&#45;&gt;2 -->\n<g id=\"edge8\" class=\"edge\">\n<title>vars:0&#45;&gt;2:0</title>\n<path fill=\"none\" stroke=\"#000000\" stroke-dasharray=\"1,5\" d=\"M30,-36.5C30,-84.0934 44.4066,-241.5 92,-241.5\"/>\n</g>\n<!-- vars&#45;&gt;2 -->\n<g id=\"edge9\" class=\"edge\">\n<title>vars:1&#45;&gt;2:1</title>\n<path fill=\"none\" stroke=\"#000000\" stroke-dasharray=\"1,5\" d=\"M77,-36.5C77,-121.1795 209.3398,-8.3248 264,-73 279.3352,-91.1449 276.0585,-180.1281 266,-195 241.5868,-231.0959 175,-187.9235 175,-231.5\"/>\n</g>\n<!-- vars&#45;&gt;2 -->\n<g id=\"edge10\" class=\"edge\">\n<title>vars:2&#45;&gt;2:2</title>\n<path fill=\"none\" stroke=\"#000000\" stroke-dasharray=\"1,5\" d=\"M148,-18.5C180.9716,-18.5 267.4554,-45.7379 286,-73 328.6191,-135.6537 335.7752,-241.5 260,-241.5\"/>\n</g>\n<!-- 1 -->\n<g id=\"node4\" class=\"node\">\n<title>1</title>\n<polygon fill=\"none\" stroke=\"#000000\" points=\"132,-310.5 132,-352.5 246,-352.5 246,-310.5 132,-310.5\"/>\n<text text-anchor=\"middle\" x=\"189\" y=\"-338.9\" font-family=\"Courier,monospace\" font-size=\"12.00\" fill=\"#000000\">read : [K, N]</text>\n<polyline fill=\"none\" stroke=\"#000000\" points=\"132,-331.5 246,-331.5 \"/>\n<text text-anchor=\"middle\" x=\"160.5\" y=\"-317.9\" font-family=\"Courier,monospace\" font-size=\"12.00\" fill=\"#000000\">K:128</text>\n<polyline fill=\"none\" stroke=\"#000000\" points=\"189,-310.5 189,-331.5 \"/>\n<text text-anchor=\"middle\" x=\"217.5\" y=\"-317.9\" font-family=\"Courier,monospace\" font-size=\"12.00\" fill=\"#000000\">N:128</text>\n</g>\n<!-- vars&#45;&gt;1 -->\n<g id=\"edge5\" class=\"edge\">\n<title>vars:1&#45;&gt;1:0</title>\n<path fill=\"none\" stroke=\"#000000\" stroke-dasharray=\"1,5\" d=\"M77,-36.5C77,-95.0644 296.601,-31.5764 338,-73 401.9949,-137.0329 376.8155,-218.8811 305,-274 252.2824,-314.4611 160,-244.0452 160,-310.5\"/>\n</g>\n<!-- vars&#45;&gt;1 -->\n<g id=\"edge6\" class=\"edge\">\n<title>vars:2&#45;&gt;1:1</title>\n<path fill=\"none\" stroke=\"#000000\" stroke-dasharray=\"1,5\" d=\"M148,-18.5C197.9354,-18.5 330.8488,-37.5326 366,-73 452.0541,-159.8282 368.2475,-320.5 246,-320.5\"/>\n</g>\n<!-- 3 -->\n<g id=\"node5\" class=\"node\">\n<title>3</title>\n<polygon fill=\"none\" stroke=\"#000000\" points=\"95,-152.5 95,-194.5 257,-194.5 257,-152.5 95,-152.5\"/>\n<text text-anchor=\"middle\" x=\"176\" y=\"-180.9\" font-family=\"Courier,monospace\" font-size=\"12.00\" fill=\"#000000\">add : [M, N]</text>\n<polyline fill=\"none\" stroke=\"#000000\" points=\"95,-173.5 257,-173.5 \"/>\n<text text-anchor=\"middle\" x=\"122\" y=\"-159.9\" font-family=\"Courier,monospace\" font-size=\"12.00\" fill=\"#000000\">M:128</text>\n<polyline fill=\"none\" stroke=\"#000000\" points=\"149,-152.5 149,-173.5 \"/>\n<text text-anchor=\"middle\" x=\"176\" y=\"-159.9\" font-family=\"Courier,monospace\" font-size=\"12.00\" fill=\"#000000\">K:128</text>\n<polyline fill=\"none\" stroke=\"#000000\" points=\"203,-152.5 203,-173.5 \"/>\n<text text-anchor=\"middle\" x=\"230\" y=\"-159.9\" font-family=\"Courier,monospace\" font-size=\"12.00\" fill=\"#000000\">N:128</text>\n</g>\n<!-- vars&#45;&gt;3 -->\n<g id=\"edge12\" class=\"edge\">\n<title>vars:0&#45;&gt;3:0</title>\n<path fill=\"none\" stroke=\"#000000\" stroke-dasharray=\"1,5\" d=\"M30,-36.5C30,-58.3694 49.1339,-56.0884 63,-73 76.949,-90.0128 122,-130.4997 122,-152.5\"/>\n</g>\n<!-- vars&#45;&gt;3 -->\n<g id=\"edge13\" class=\"edge\">\n<title>vars:1&#45;&gt;3:1</title>\n<path fill=\"none\" stroke=\"#000000\" stroke-dasharray=\"1,5\" d=\"M77,-36.5C77,-113.343 197.7389,-13.2028 246,-73 258.0027,-87.8718 255.9088,-99.6583 246,-116 227.8082,-146.002 176,-117.4135 176,-152.5\"/>\n</g>\n<!-- vars&#45;&gt;3 -->\n<g id=\"edge14\" class=\"edge\">\n<title>vars:2&#45;&gt;3:2</title>\n<path fill=\"none\" stroke=\"#000000\" stroke-dasharray=\"1,5\" d=\"M148,-18.5C204.9622,-18.5 233.4636,-24.9144 264,-73 285.3893,-106.6816 296.8993,-162.5 257,-162.5\"/>\n</g>\n<!-- 4 -->\n<g id=\"node6\" class=\"node\">\n<title>4</title>\n<polygon fill=\"none\" stroke=\"#000000\" points=\"115,-73.5 115,-115.5 237,-115.5 237,-73.5 115,-73.5\"/>\n<text text-anchor=\"middle\" x=\"176\" y=\"-101.9\" font-family=\"Courier,monospace\" font-size=\"12.00\" fill=\"#000000\">write : [M, N]</text>\n<polyline fill=\"none\" stroke=\"#000000\" points=\"115,-94.5 237,-94.5 \"/>\n<text text-anchor=\"middle\" x=\"145.5\" y=\"-80.9\" font-family=\"Courier,monospace\" font-size=\"12.00\" fill=\"#000000\">M:128</text>\n<polyline fill=\"none\" stroke=\"#000000\" points=\"176,-73.5 176,-94.5 \"/>\n<text text-anchor=\"middle\" x=\"206.5\" y=\"-80.9\" font-family=\"Courier,monospace\" font-size=\"12.00\" fill=\"#000000\">N:128</text>\n</g>\n<!-- vars&#45;&gt;4 -->\n<g id=\"edge15\" class=\"edge\">\n<title>vars:0&#45;&gt;4:0</title>\n<path fill=\"none\" stroke=\"#000000\" stroke-dasharray=\"1,5\" d=\"M30,-36.5C30,-71.9812 70.9229,-54.1777 101,-73 107.5932,-77.126 107.2222,-83.5 115,-83.5\"/>\n</g>\n<!-- vars&#45;&gt;4 -->\n<g id=\"edge16\" class=\"edge\">\n<title>vars:2&#45;&gt;4:1</title>\n<path fill=\"none\" stroke=\"#000000\" stroke-dasharray=\"1,5\" d=\"M124,-36.5C124,-76.8882 207,-33.1118 207,-73.5\"/>\n</g>\n<!-- 0&#45;&gt;2 -->\n<g id=\"edge1\" class=\"edge\">\n<title>0&#45;&gt;2</title>\n<path fill=\"none\" stroke=\"#000000\" d=\"M88.8898,-310.3294C103.1625,-300.8543 120.1586,-289.5712 135.3328,-279.4976\"/>\n<polygon fill=\"#000000\" stroke=\"#000000\" points=\"137.6267,-282.1758 144.0222,-273.729 133.7551,-276.3439 137.6267,-282.1758\"/>\n</g>\n<!-- 2&#45;&gt;3 -->\n<g id=\"edge7\" class=\"edge\">\n<title>2&#45;&gt;3</title>\n<path fill=\"none\" stroke=\"#000000\" d=\"M176,-231.3294C176,-223.1826 176,-213.6991 176,-204.7971\"/>\n<polygon fill=\"#000000\" stroke=\"#000000\" points=\"179.5001,-204.729 176,-194.729 172.5001,-204.729 179.5001,-204.729\"/>\n</g>\n<!-- 1&#45;&gt;2 -->\n<g id=\"edge4\" class=\"edge\">\n<title>1&#45;&gt;2</title>\n<path fill=\"none\" stroke=\"#000000\" d=\"M185.5162,-310.3294C184.1756,-302.1826 182.615,-292.6991 181.1502,-283.7971\"/>\n<polygon fill=\"#000000\" stroke=\"#000000\" points=\"184.5707,-283.0279 179.4934,-273.729 177.6636,-284.1646 184.5707,-283.0279\"/>\n</g>\n<!-- 3&#45;&gt;4 -->\n<g id=\"edge11\" class=\"edge\">\n<title>3&#45;&gt;4</title>\n<path fill=\"none\" stroke=\"#000000\" d=\"M176,-152.3294C176,-144.1826 176,-134.6991 176,-125.7971\"/>\n<polygon fill=\"#000000\" stroke=\"#000000\" points=\"179.5001,-125.729 176,-115.729 172.5001,-125.729 179.5001,-125.729\"/>\n</g>\n</g>\n</svg>\n"
          },
          "metadata": {},
          "execution_count": 10
        }
      ]
    },
    {
      "cell_type": "markdown",
      "metadata": {
        "id": "4H5poNHnFRnl"
      },
      "source": [
        "*Since we often reuse names in code (e.g. by calling `mm` twice), `loop_tool` automatically appends a unique ID to each generated symbol.  This can make it hard to read, so the graphviz has dotted lines mapping the simple names (used by the user) to the full names of the symbols (including ID).*"
      ]
    },
    {
      "cell_type": "markdown",
      "metadata": {
        "id": "VuMXSaNYSpzn"
      },
      "source": [
        "# Manipulating the IR\n",
        "\n",
        "Let's jump into how a backend might optimize the execution of operations defined in `loop_tool`. Matrix multiplication and convolution are complex optimization problems, so for the sake of the tutorial we will stick with a simple pointwise operation.\n",
        "\n",
        "`loop_tool` IR is extremely cheap to copy.  It stores the information in a dense format that can be cloned easily (using builtin copy constructors).  That means a lot of the IR manipulation can involve copies being made of the IR.  Although this isn't strictly necessary, the copies make it easy to save state and search through many different manipulations in a trivially parallel way.  Keep this in mind as copies will be made without explicitly mentioning it in the comments below.\n",
        "\n",
        "Before that, let's set the backend to \"cuda\" if it's available.  CPU is fine as well (there is multithreading we can tune)."
      ]
    },
    {
      "cell_type": "code",
      "metadata": {
        "id": "XZYAB9L0RtSR"
      },
      "source": [
        "N = 1024 # problem size\n",
        "\n",
        "backend = \"cpu\"\n",
        "if \"cuda\" in lt.backends():\n",
        "  backend = \"cuda\"\n",
        "  lt.set_default_hardware(\"cuda\")\n",
        "  lt.set_default_backend(\"cuda\")\n",
        "  N *= 1024 # bigger if we have a GPU\n",
        "else:\n",
        "  lt.set_default_hardware(\"cpu\")\n",
        "  lt.set_default_backend(\"cpu\")"
      ],
      "execution_count": null,
      "outputs": []
    },
    {
      "cell_type": "markdown",
      "metadata": {
        "id": "TshAUNfOXkFM"
      },
      "source": [
        "Then we can define the problem"
      ]
    },
    {
      "cell_type": "code",
      "metadata": {
        "colab": {
          "base_uri": "https://localhost:8080/"
        },
        "id": "21GoWbLXTWVg",
        "outputId": "b786450f-8abb-4fb8-9f3f-135c1f6b0905"
      },
      "source": [
        "v = lt.Symbol('v')\n",
        "a = lt.Tensor(N)\n",
        "b = lt.Tensor(N)\n",
        "a.set(np.random.randn(N))\n",
        "b.set(np.random.randn(N))\n",
        "\n",
        "c = a.to(v) + b.to(v)\n",
        "print(c.loop_tree)\n",
        "print(c.numpy())"
      ],
      "execution_count": null,
      "outputs": [
        {
          "output_type": "stream",
          "name": "stdout",
          "text": [
            "for v_269 in 1048576 : L0\n",
            " %0[v_269] <- read()\n",
            " %1[v_269] <- read()\n",
            " %2[v_269] <- add(%0, %1)\n",
            " %3[v_269] <- write(%2)\n",
            "\n",
            "[ 2.0317874  -1.0940161   1.1519554  ... -3.1566718  -0.17415054\n",
            "  2.1214528 ]\n"
          ]
        }
      ]
    },
    {
      "cell_type": "markdown",
      "metadata": {
        "id": "Hcot8nB2X76s"
      },
      "source": [
        "We define a benchmark using the `resolve()` method, which forces data to be calculated but doesn't copy it to a numpy array."
      ]
    },
    {
      "cell_type": "code",
      "metadata": {
        "id": "LOnxqNInXoOY"
      },
      "source": [
        "import time\n",
        "\n",
        "def bench(warmup, iters):\n",
        "  v = lt.Symbol('v')\n",
        "  a = lt.Tensor(N)\n",
        "  b = lt.Tensor(N)\n",
        "  a.set(np.random.randn(N))\n",
        "  b.set(np.random.randn(N))\n",
        "\n",
        "  for i in range(warmup):\n",
        "    c = a.to(v) + b.to(v)\n",
        "    c.resolve()\n",
        "  t1 = time.time()\n",
        "  for i in range(iters):\n",
        "    c = a.to(v) + b.to(v)\n",
        "    c.resolve()\n",
        "  t2 = time.time()\n",
        "  print(f\"{iters / (t2 - t1):.2f} iters/sec\")"
      ],
      "execution_count": null,
      "outputs": []
    },
    {
      "cell_type": "code",
      "metadata": {
        "colab": {
          "base_uri": "https://localhost:8080/"
        },
        "id": "OS7RZb21YJ6Q",
        "outputId": "4e694942-97f8-4bee-aae1-a73758b37c7f"
      },
      "source": [
        "bench(10, 10)"
      ],
      "execution_count": null,
      "outputs": [
        {
          "output_type": "stream",
          "name": "stdout",
          "text": [
            "12.59 iters/sec\n"
          ]
        }
      ]
    },
    {
      "cell_type": "markdown",
      "metadata": {
        "id": "7YvszHXVLZU_"
      },
      "source": [
        "Not great.  Let's parallelize the loop_tree and feed it back into `c` with the `set()` method.  This will cause all future additions of the same shape to use the user provided loop_tree.  Both the CPU and CUDA backends happen to understand the \"parallel\" annotation, but custom backends could always use different strings."
      ]
    },
    {
      "cell_type": "code",
      "metadata": {
        "colab": {
          "base_uri": "https://localhost:8080/"
        },
        "id": "quFJuygZYs-J",
        "outputId": "776e7067-dfac-45e1-c0af-8a5407cf0182"
      },
      "source": [
        "loop_tree = c.loop_tree # copied :)\n",
        "loop_tree.annotate(loop_tree.loops[0], \"parallel\")\n",
        "c.set(loop_tree)\n",
        "bench(10, 1000)"
      ],
      "execution_count": null,
      "outputs": [
        {
          "output_type": "stream",
          "name": "stdout",
          "text": [
            "833.20 iters/sec\n"
          ]
        }
      ]
    },
    {
      "cell_type": "markdown",
      "metadata": {
        "id": "IPNyIrccMnJs"
      },
      "source": [
        "Better on GPU, worse on CPU (because 1024 threads just got spawned).  Let's check out the loop_tree:"
      ]
    },
    {
      "cell_type": "code",
      "metadata": {
        "colab": {
          "base_uri": "https://localhost:8080/"
        },
        "id": "DzYP8DJEYuQP",
        "outputId": "e4098270-3fec-4ec1-f412-fde2eaa89dc0"
      },
      "source": [
        "print(c.loop_tree)"
      ],
      "execution_count": null,
      "outputs": [
        {
          "output_type": "stream",
          "name": "stdout",
          "text": [
            "for v_269 in 1048576 : L0 parallel\n",
            " %0[v_269] <- read()\n",
            " %1[v_269] <- read()\n",
            " %2[v_269] <- add(%0, %1)\n",
            " %3[v_269] <- write(%2)\n",
            "\n"
          ]
        }
      ]
    },
    {
      "cell_type": "markdown",
      "metadata": {
        "id": "vxzepj7CNAJS"
      },
      "source": [
        "Simple annotations like \"parallel\" are done on the loop_tree, but more advanced scheduling it done on the IR itself.  This includes loop splitting and reordering.  If we dump the IR we can see what's going on:"
      ]
    },
    {
      "cell_type": "code",
      "metadata": {
        "colab": {
          "base_uri": "https://localhost:8080/",
          "height": 418
        },
        "id": "rJNiUte_ZwBI",
        "outputId": "67982039-13e0-4d8a-bdeb-656af05a2038"
      },
      "source": [
        "ir = c.ir # copied :)\n",
        "graphviz.Source(ir)"
      ],
      "execution_count": null,
      "outputs": [
        {
          "output_type": "execute_result",
          "data": {
            "text/plain": [
              "<graphviz.files.Source at 0x7f2334dad0d0>"
            ],
            "image/svg+xml": "<?xml version=\"1.0\" encoding=\"UTF-8\" standalone=\"no\"?>\n<!DOCTYPE svg PUBLIC \"-//W3C//DTD SVG 1.1//EN\"\n \"http://www.w3.org/Graphics/SVG/1.1/DTD/svg11.dtd\">\n<!-- Generated by graphviz version 2.40.1 (20161225.0304)\n -->\n<!-- Title: G Pages: 1 -->\n<svg width=\"252pt\" height=\"282pt\"\n viewBox=\"0.00 0.00 252.26 282.00\" xmlns=\"http://www.w3.org/2000/svg\" xmlns:xlink=\"http://www.w3.org/1999/xlink\">\n<g id=\"graph0\" class=\"graph\" transform=\"scale(1 1) rotate(0) translate(4 278)\">\n<title>G</title>\n<polygon fill=\"#ffffff\" stroke=\"transparent\" points=\"-4,4 -4,-278 248.2565,-278 248.2565,4 -4,4\"/>\n<!-- vars -->\n<g id=\"node1\" class=\"node\">\n<title>vars</title>\n<polygon fill=\"none\" stroke=\"#000000\" points=\"9,-.5 9,-36.5 63,-36.5 63,-.5 9,-.5\"/>\n<text text-anchor=\"middle\" x=\"36\" y=\"-15.4\" font-family=\"Courier,monospace\" font-size=\"12.00\" fill=\"#000000\">v_269</text>\n</g>\n<!-- 0 -->\n<g id=\"node2\" class=\"node\">\n<title>0</title>\n<polygon fill=\"none\" stroke=\"#000000\" points=\"0,-231.5 0,-273.5 92,-273.5 92,-231.5 0,-231.5\"/>\n<text text-anchor=\"middle\" x=\"46\" y=\"-259.9\" font-family=\"Courier,monospace\" font-size=\"12.00\" fill=\"#000000\">read : [v]</text>\n<polyline fill=\"none\" stroke=\"#000000\" points=\"0,-252.5 92,-252.5 \"/>\n<text text-anchor=\"middle\" x=\"46\" y=\"-238.9\" font-family=\"Courier,monospace\" font-size=\"12.00\" fill=\"#000000\">v:1048576</text>\n</g>\n<!-- vars&#45;&gt;0 -->\n<g id=\"edge2\" class=\"edge\">\n<title>vars:0&#45;&gt;0:0</title>\n<path fill=\"none\" stroke=\"#000000\" stroke-dasharray=\"1,5\" d=\"M34.3336,-36.6483C33.4447,-47.2395 32.4447,-60.8645 32,-73 31.3001,-92.0983 30.8481,-96.9236 32,-116 35.1168,-167.615 46,-179.7909 46,-231.5\"/>\n</g>\n<!-- 2 -->\n<g id=\"node3\" class=\"node\">\n<title>2</title>\n<polygon fill=\"none\" stroke=\"#000000\" points=\"91,-152.5 91,-194.5 175,-194.5 175,-152.5 91,-152.5\"/>\n<text text-anchor=\"middle\" x=\"133\" y=\"-180.9\" font-family=\"Courier,monospace\" font-size=\"12.00\" fill=\"#000000\">add : [v]</text>\n<polyline fill=\"none\" stroke=\"#000000\" points=\"91,-173.5 175,-173.5 \"/>\n<text text-anchor=\"middle\" x=\"133\" y=\"-159.9\" font-family=\"Courier,monospace\" font-size=\"12.00\" fill=\"#000000\">v:1048576</text>\n</g>\n<!-- vars&#45;&gt;2 -->\n<g id=\"edge6\" class=\"edge\">\n<title>vars:0&#45;&gt;2:0</title>\n<path fill=\"none\" stroke=\"#000000\" stroke-dasharray=\"1,5\" d=\"M35.0453,-36.7377C34.0503,-75.4861 37.7447,-162.5 91,-162.5\"/>\n</g>\n<!-- 1 -->\n<g id=\"node4\" class=\"node\">\n<title>1</title>\n<polygon fill=\"none\" stroke=\"#000000\" points=\"110,-231.5 110,-273.5 202,-273.5 202,-231.5 110,-231.5\"/>\n<text text-anchor=\"middle\" x=\"156\" y=\"-259.9\" font-family=\"Courier,monospace\" font-size=\"12.00\" fill=\"#000000\">read : [v]</text>\n<polyline fill=\"none\" stroke=\"#000000\" points=\"110,-252.5 202,-252.5 \"/>\n<text text-anchor=\"middle\" x=\"156\" y=\"-238.9\" font-family=\"Courier,monospace\" font-size=\"12.00\" fill=\"#000000\">v:1048576</text>\n</g>\n<!-- vars&#45;&gt;1 -->\n<g id=\"edge4\" class=\"edge\">\n<title>vars:0&#45;&gt;1:0</title>\n<path fill=\"none\" stroke=\"#000000\" stroke-dasharray=\"1,5\" d=\"M62.0722,-36.5577C62.3817,-36.7084 62.691,-36.8559 63,-37 116.9446,-62.1612 154.5287,-26.7505 192,-73 299.0145,-205.0843 209.2105,-241.5 202,-241.5\"/>\n</g>\n<!-- 3 -->\n<g id=\"node5\" class=\"node\">\n<title>3</title>\n<polygon fill=\"none\" stroke=\"#000000\" points=\"83.5,-73.5 83.5,-115.5 182.5,-115.5 182.5,-73.5 83.5,-73.5\"/>\n<text text-anchor=\"middle\" x=\"133\" y=\"-101.9\" font-family=\"Courier,monospace\" font-size=\"12.00\" fill=\"#000000\">write : [v]</text>\n<polyline fill=\"none\" stroke=\"#000000\" points=\"83.5,-94.5 182.5,-94.5 \"/>\n<text text-anchor=\"middle\" x=\"133\" y=\"-80.9\" font-family=\"Courier,monospace\" font-size=\"12.00\" fill=\"#000000\">v:1048576</text>\n</g>\n<!-- vars&#45;&gt;3 -->\n<g id=\"edge7\" class=\"edge\">\n<title>vars:0&#45;&gt;3:0</title>\n<path fill=\"none\" stroke=\"#000000\" stroke-dasharray=\"1,5\" d=\"M46.984,-36.6061C58.9565,-55.8391 77.186,-83.5 83,-83.5\"/>\n</g>\n<!-- 0&#45;&gt;2 -->\n<g id=\"edge1\" class=\"edge\">\n<title>0&#45;&gt;2</title>\n<path fill=\"none\" stroke=\"#000000\" d=\"M69.3144,-231.3294C79.359,-222.2085 91.2486,-211.4122 102.0189,-201.6322\"/>\n<polygon fill=\"#000000\" stroke=\"#000000\" points=\"104.5708,-204.0427 109.6212,-194.729 99.8651,-198.8604 104.5708,-204.0427\"/>\n</g>\n<!-- 2&#45;&gt;3 -->\n<g id=\"edge5\" class=\"edge\">\n<title>2&#45;&gt;3</title>\n<path fill=\"none\" stroke=\"#000000\" d=\"M133,-152.3294C133,-144.1826 133,-134.6991 133,-125.7971\"/>\n<polygon fill=\"#000000\" stroke=\"#000000\" points=\"136.5001,-125.729 133,-115.729 129.5001,-125.729 136.5001,-125.729\"/>\n</g>\n<!-- 1&#45;&gt;2 -->\n<g id=\"edge3\" class=\"edge\">\n<title>1&#45;&gt;2</title>\n<path fill=\"none\" stroke=\"#000000\" d=\"M149.8364,-231.3294C147.4388,-223.0941 144.6435,-213.4928 142.0274,-204.5071\"/>\n<polygon fill=\"#000000\" stroke=\"#000000\" points=\"145.3365,-203.352 139.1806,-194.729 138.6155,-205.3087 145.3365,-203.352\"/>\n</g>\n</g>\n</svg>\n"
          },
          "metadata": {},
          "execution_count": 17
        }
      ]
    },
    {
      "cell_type": "markdown",
      "metadata": {
        "id": "7TLQdw7xNQoX"
      },
      "source": [
        "Besides visual inspection, we can also iterate through nodes with code.  Here's an example:"
      ]
    },
    {
      "cell_type": "code",
      "metadata": {
        "id": "NxC8SLN1Kz2M",
        "colab": {
          "base_uri": "https://localhost:8080/"
        },
        "outputId": "051ce2c2-7d35-4f05-b718-aa529ba83070"
      },
      "source": [
        "for n in ir.nodes:\n",
        "  print(n, ir.pointwise_vars(n))"
      ],
      "execution_count": null,
      "outputs": [
        {
          "output_type": "stream",
          "name": "stdout",
          "text": [
            "0 [0]\n",
            "1 [0]\n",
            "2 [0]\n",
            "3 [0]\n"
          ]
        }
      ]
    },
    {
      "cell_type": "markdown",
      "metadata": {
        "id": "37CUDOoeNfY5"
      },
      "source": [
        "It's all useless numbers!  This is because the Python API closely mirrors the C++ API and both work with node and variable \"references\" for efficiency.  To get readable names, we have to ask the IR what the names are:"
      ]
    },
    {
      "cell_type": "code",
      "metadata": {
        "id": "TrYfwYLTK_2h",
        "colab": {
          "base_uri": "https://localhost:8080/"
        },
        "outputId": "75e5ed7f-c78b-460b-e9ee-e005deb76fde"
      },
      "source": [
        "for n in ir.nodes:\n",
        "  print(ir.dump(n), [ir.dump_var(v) for v in ir.pointwise_vars(n)])"
      ],
      "execution_count": null,
      "outputs": [
        {
          "output_type": "stream",
          "name": "stdout",
          "text": [
            "%0[v_269] <- read() ['v_269']\n",
            "%1[v_269] <- read() ['v_269']\n",
            "%2[v_269] <- add(%0, %1) ['v_269']\n",
            "%3[v_269] <- write(%2) ['v_269']\n"
          ]
        }
      ]
    },
    {
      "cell_type": "markdown",
      "metadata": {
        "id": "41AsfcbzOZFp"
      },
      "source": [
        "Now we can manipulate the loops by annotating each node with a loop order.  Note that we are splitting the variable 'v' in the process.  This IR annotation, `set_order` covers a vast majority of usecases:"
      ]
    },
    {
      "cell_type": "code",
      "metadata": {
        "id": "1ExyvvVhN09V",
        "colab": {
          "base_uri": "https://localhost:8080/",
          "height": 418
        },
        "outputId": "c04a3bd4-633a-412e-e38c-f176bf4decdb"
      },
      "source": [
        "assert len(ir.vars) == 1\n",
        "v = ir.vars[0]\n",
        "\n",
        "for n in ir.nodes:\n",
        "  inner = 4\n",
        "  ir.set_order(n, [(v, (N // inner, N % inner)), (v, (inner, 0))])\n",
        "graphviz.Source(ir)\n"
      ],
      "execution_count": null,
      "outputs": [
        {
          "output_type": "execute_result",
          "data": {
            "text/plain": [
              "<graphviz.files.Source at 0x7f2334d95e10>"
            ],
            "image/svg+xml": "<?xml version=\"1.0\" encoding=\"UTF-8\" standalone=\"no\"?>\n<!DOCTYPE svg PUBLIC \"-//W3C//DTD SVG 1.1//EN\"\n \"http://www.w3.org/Graphics/SVG/1.1/DTD/svg11.dtd\">\n<!-- Generated by graphviz version 2.40.1 (20161225.0304)\n -->\n<!-- Title: G Pages: 1 -->\n<svg width=\"322pt\" height=\"282pt\"\n viewBox=\"0.00 0.00 321.70 282.00\" xmlns=\"http://www.w3.org/2000/svg\" xmlns:xlink=\"http://www.w3.org/1999/xlink\">\n<g id=\"graph0\" class=\"graph\" transform=\"scale(1 1) rotate(0) translate(4 278)\">\n<title>G</title>\n<polygon fill=\"#ffffff\" stroke=\"transparent\" points=\"-4,4 -4,-278 317.6958,-278 317.6958,4 -4,4\"/>\n<!-- vars -->\n<g id=\"node1\" class=\"node\">\n<title>vars</title>\n<polygon fill=\"none\" stroke=\"#000000\" points=\"14,-.5 14,-36.5 68,-36.5 68,-.5 14,-.5\"/>\n<text text-anchor=\"middle\" x=\"41\" y=\"-15.4\" font-family=\"Courier,monospace\" font-size=\"12.00\" fill=\"#000000\">v_269</text>\n</g>\n<!-- 0 -->\n<g id=\"node2\" class=\"node\">\n<title>0</title>\n<polygon fill=\"none\" stroke=\"#000000\" points=\"0,-231.5 0,-273.5 116,-273.5 116,-231.5 0,-231.5\"/>\n<text text-anchor=\"middle\" x=\"58\" y=\"-259.9\" font-family=\"Courier,monospace\" font-size=\"12.00\" fill=\"#000000\">read : [v]</text>\n<polyline fill=\"none\" stroke=\"#000000\" points=\"0,-252.5 116,-252.5 \"/>\n<text text-anchor=\"middle\" x=\"38.5\" y=\"-238.9\" font-family=\"Courier,monospace\" font-size=\"12.00\" fill=\"#000000\">v:262144</text>\n<polyline fill=\"none\" stroke=\"#000000\" points=\"77,-231.5 77,-252.5 \"/>\n<text text-anchor=\"middle\" x=\"96.5\" y=\"-238.9\" font-family=\"Courier,monospace\" font-size=\"12.00\" fill=\"#000000\">v:4</text>\n</g>\n<!-- vars&#45;&gt;0 -->\n<g id=\"edge2\" class=\"edge\">\n<title>vars:0&#45;&gt;0:0</title>\n<path fill=\"none\" stroke=\"#000000\" stroke-dasharray=\"1,5\" d=\"M38.9171,-36.6381C37.8061,-47.2257 36.5561,-60.8507 36,-73 32.7785,-143.3764 38,-161.0499 38,-231.5\"/>\n</g>\n<!-- vars&#45;&gt;0 -->\n<g id=\"edge3\" class=\"edge\">\n<title>vars:0&#45;&gt;0:1</title>\n<path fill=\"none\" stroke=\"#000000\" stroke-dasharray=\"1,5\" d=\"M67.06,-36.5848C67.3734,-36.7269 67.6868,-36.8654 68,-37 138.157,-67.1514 187.9931,-13.6161 236,-73 270.6888,-115.9096 249.9149,-153.9898 213,-195 184.7289,-226.4074 159.2631,-206.267 125,-231 120.0164,-234.5974 122.1464,-241.5 116,-241.5\"/>\n</g>\n<!-- 2 -->\n<g id=\"node3\" class=\"node\">\n<title>2</title>\n<polygon fill=\"none\" stroke=\"#000000\" points=\"88,-152.5 88,-194.5 204,-194.5 204,-152.5 88,-152.5\"/>\n<text text-anchor=\"middle\" x=\"146\" y=\"-180.9\" font-family=\"Courier,monospace\" font-size=\"12.00\" fill=\"#000000\">add : [v]</text>\n<polyline fill=\"none\" stroke=\"#000000\" points=\"88,-173.5 204,-173.5 \"/>\n<text text-anchor=\"middle\" x=\"126.5\" y=\"-159.9\" font-family=\"Courier,monospace\" font-size=\"12.00\" fill=\"#000000\">v:262144</text>\n<polyline fill=\"none\" stroke=\"#000000\" points=\"165,-152.5 165,-173.5 \"/>\n<text text-anchor=\"middle\" x=\"184.5\" y=\"-159.9\" font-family=\"Courier,monospace\" font-size=\"12.00\" fill=\"#000000\">v:4</text>\n</g>\n<!-- vars&#45;&gt;2 -->\n<g id=\"edge8\" class=\"edge\">\n<title>vars:0&#45;&gt;2:0</title>\n<path fill=\"none\" stroke=\"#000000\" stroke-dasharray=\"1,5\" d=\"M39.1692,-36.7377C36.2951,-75.4861 35.6671,-162.5 88,-162.5\"/>\n</g>\n<!-- vars&#45;&gt;2 -->\n<g id=\"edge9\" class=\"edge\">\n<title>vars:0&#45;&gt;2:1</title>\n<path fill=\"none\" stroke=\"#000000\" stroke-dasharray=\"1,5\" d=\"M67.0664,-36.5704C67.3777,-36.7171 67.689,-36.8603 68,-37 128.5748,-64.199 172.0936,-20.6956 213,-73 237.6288,-104.4912 243.9784,-162.5 204,-162.5\"/>\n</g>\n<!-- 1 -->\n<g id=\"node4\" class=\"node\">\n<title>1</title>\n<polygon fill=\"none\" stroke=\"#000000\" points=\"134,-231.5 134,-273.5 250,-273.5 250,-231.5 134,-231.5\"/>\n<text text-anchor=\"middle\" x=\"192\" y=\"-259.9\" font-family=\"Courier,monospace\" font-size=\"12.00\" fill=\"#000000\">read : [v]</text>\n<polyline fill=\"none\" stroke=\"#000000\" points=\"134,-252.5 250,-252.5 \"/>\n<text text-anchor=\"middle\" x=\"172.5\" y=\"-238.9\" font-family=\"Courier,monospace\" font-size=\"12.00\" fill=\"#000000\">v:262144</text>\n<polyline fill=\"none\" stroke=\"#000000\" points=\"211,-231.5 211,-252.5 \"/>\n<text text-anchor=\"middle\" x=\"230.5\" y=\"-238.9\" font-family=\"Courier,monospace\" font-size=\"12.00\" fill=\"#000000\">v:4</text>\n</g>\n<!-- vars&#45;&gt;1 -->\n<g id=\"edge5\" class=\"edge\">\n<title>vars:0&#45;&gt;1:0</title>\n<path fill=\"none\" stroke=\"#000000\" stroke-dasharray=\"1,5\" d=\"M67.0555,-36.5956C67.3703,-36.7342 67.6852,-36.8691 68,-37 147.3622,-69.9924 203.1743,-6.8108 258,-73 292.8847,-115.1151 274.8771,-151.2997 242,-195 220.9063,-223.0378 172,-196.4135 172,-231.5\"/>\n</g>\n<!-- vars&#45;&gt;1 -->\n<g id=\"edge6\" class=\"edge\">\n<title>vars:0&#45;&gt;1:1</title>\n<path fill=\"none\" stroke=\"#000000\" stroke-dasharray=\"1,5\" d=\"M67.0518,-36.6045C67.3678,-36.7403 67.6839,-36.8723 68,-37 157.0146,-72.9746 219.0257,.3278 281,-73 330.1523,-131.1569 326.1457,-241.5 250,-241.5\"/>\n</g>\n<!-- 3 -->\n<g id=\"node5\" class=\"node\">\n<title>3</title>\n<polygon fill=\"none\" stroke=\"#000000\" points=\"88,-73.5 88,-115.5 204,-115.5 204,-73.5 88,-73.5\"/>\n<text text-anchor=\"middle\" x=\"146\" y=\"-101.9\" font-family=\"Courier,monospace\" font-size=\"12.00\" fill=\"#000000\">write : [v]</text>\n<polyline fill=\"none\" stroke=\"#000000\" points=\"88,-94.5 204,-94.5 \"/>\n<text text-anchor=\"middle\" x=\"126.5\" y=\"-80.9\" font-family=\"Courier,monospace\" font-size=\"12.00\" fill=\"#000000\">v:262144</text>\n<polyline fill=\"none\" stroke=\"#000000\" points=\"165,-73.5 165,-94.5 \"/>\n<text text-anchor=\"middle\" x=\"184.5\" y=\"-80.9\" font-family=\"Courier,monospace\" font-size=\"12.00\" fill=\"#000000\">v:4</text>\n</g>\n<!-- vars&#45;&gt;3 -->\n<g id=\"edge10\" class=\"edge\">\n<title>vars:0&#45;&gt;3:0</title>\n<path fill=\"none\" stroke=\"#000000\" stroke-dasharray=\"1,5\" d=\"M51.984,-36.6061C63.9565,-55.8391 82.186,-83.5 88,-83.5\"/>\n</g>\n<!-- vars&#45;&gt;3 -->\n<g id=\"edge11\" class=\"edge\">\n<title>vars:0&#45;&gt;3:1</title>\n<path fill=\"none\" stroke=\"#000000\" stroke-dasharray=\"1,5\" d=\"M67.0785,-36.5443C67.386,-36.6993 67.6932,-36.8512 68,-37 117.0119,-60.7696 185,-19.0284 185,-73.5\"/>\n</g>\n<!-- 0&#45;&gt;2 -->\n<g id=\"edge1\" class=\"edge\">\n<title>0&#45;&gt;2</title>\n<path fill=\"none\" stroke=\"#000000\" d=\"M81.5824,-231.3294C91.7424,-222.2085 103.7687,-211.4122 114.6628,-201.6322\"/>\n<polygon fill=\"#000000\" stroke=\"#000000\" points=\"117.2493,-204.0138 122.3525,-194.729 112.573,-198.8048 117.2493,-204.0138\"/>\n</g>\n<!-- 2&#45;&gt;3 -->\n<g id=\"edge7\" class=\"edge\">\n<title>2&#45;&gt;3</title>\n<path fill=\"none\" stroke=\"#000000\" d=\"M146,-152.3294C146,-144.1826 146,-134.6991 146,-125.7971\"/>\n<polygon fill=\"#000000\" stroke=\"#000000\" points=\"149.5001,-125.729 146,-115.729 142.5001,-125.729 149.5001,-125.729\"/>\n</g>\n<!-- 1&#45;&gt;2 -->\n<g id=\"edge4\" class=\"edge\">\n<title>1&#45;&gt;2</title>\n<path fill=\"none\" stroke=\"#000000\" d=\"M179.6728,-231.3294C174.7229,-222.8284 168.9254,-212.8719 163.5496,-203.6395\"/>\n<polygon fill=\"#000000\" stroke=\"#000000\" points=\"166.4178,-201.6096 158.3612,-194.729 160.3685,-205.1319 166.4178,-201.6096\"/>\n</g>\n</g>\n</svg>\n"
          },
          "metadata": {},
          "execution_count": 20
        }
      ]
    },
    {
      "cell_type": "markdown",
      "metadata": {
        "id": "yZ04njYHO4xz"
      },
      "source": [
        "We can inspect the resultant loop_tree by creating a new one from the IR with `lt.LoopTree(ir)`:"
      ]
    },
    {
      "cell_type": "code",
      "metadata": {
        "id": "j9gbWRv1N9zW",
        "colab": {
          "base_uri": "https://localhost:8080/"
        },
        "outputId": "9945da06-22d2-4cf6-98f9-64b96c2d68a7"
      },
      "source": [
        "loop_tree = lt.LoopTree(ir)\n",
        "print(loop_tree)"
      ],
      "execution_count": null,
      "outputs": [
        {
          "output_type": "stream",
          "name": "stdout",
          "text": [
            "for v_269 in 262144 : L0\n",
            " for v_269' in 4 : L1\n",
            "  %0[v_269] <- read()\n",
            "  %1[v_269] <- read()\n",
            "  %2[v_269] <- add(%0, %1)\n",
            "  %3[v_269] <- write(%2)\n",
            "\n"
          ]
        }
      ]
    },
    {
      "cell_type": "markdown",
      "metadata": {
        "id": "i6U5nt00ROig"
      },
      "source": [
        "Since each node had the same loop orders and loop splits, they were automatically coalesced into a single loop nest.  This reduces iterations and memory pressure on the system.  If we were to artificially induce \"mismatches\" by setting alternating nodes to have different loop orders, we see many different loop nests:"
      ]
    },
    {
      "cell_type": "code",
      "metadata": {
        "id": "7VSkOhF7Q5Pr",
        "colab": {
          "base_uri": "https://localhost:8080/",
          "height": 418
        },
        "outputId": "c9f84821-6069-4929-e06b-126f800ebf20"
      },
      "source": [
        "alternate = True\n",
        "for n in ir.nodes:\n",
        "  alternate = not alternate\n",
        "  inner = 4\n",
        "  if alternate:\n",
        "    inner = N // 1024\n",
        "  ir.set_order(n, [(v, (N // inner, N % inner)), (v, (inner, 0))])\n",
        "graphviz.Source(ir)"
      ],
      "execution_count": null,
      "outputs": [
        {
          "output_type": "execute_result",
          "data": {
            "text/plain": [
              "<graphviz.files.Source at 0x7f2334da2750>"
            ],
            "image/svg+xml": "<?xml version=\"1.0\" encoding=\"UTF-8\" standalone=\"no\"?>\n<!DOCTYPE svg PUBLIC \"-//W3C//DTD SVG 1.1//EN\"\n \"http://www.w3.org/Graphics/SVG/1.1/DTD/svg11.dtd\">\n<!-- Generated by graphviz version 2.40.1 (20161225.0304)\n -->\n<!-- Title: G Pages: 1 -->\n<svg width=\"328pt\" height=\"282pt\"\n viewBox=\"0.00 0.00 328.42 282.00\" xmlns=\"http://www.w3.org/2000/svg\" xmlns:xlink=\"http://www.w3.org/1999/xlink\">\n<g id=\"graph0\" class=\"graph\" transform=\"scale(1 1) rotate(0) translate(4 278)\">\n<title>G</title>\n<polygon fill=\"#ffffff\" stroke=\"transparent\" points=\"-4,4 -4,-278 324.4229,-278 324.4229,4 -4,4\"/>\n<!-- vars -->\n<g id=\"node1\" class=\"node\">\n<title>vars</title>\n<polygon fill=\"none\" stroke=\"#000000\" points=\"13,-.5 13,-36.5 67,-36.5 67,-.5 13,-.5\"/>\n<text text-anchor=\"middle\" x=\"40\" y=\"-15.4\" font-family=\"Courier,monospace\" font-size=\"12.00\" fill=\"#000000\">v_269</text>\n</g>\n<!-- 0 -->\n<g id=\"node2\" class=\"node\">\n<title>0</title>\n<polygon fill=\"none\" stroke=\"#000000\" points=\"0,-231.5 0,-273.5 116,-273.5 116,-231.5 0,-231.5\"/>\n<text text-anchor=\"middle\" x=\"58\" y=\"-259.9\" font-family=\"Courier,monospace\" font-size=\"12.00\" fill=\"#000000\">read : [v]</text>\n<polyline fill=\"none\" stroke=\"#000000\" points=\"0,-252.5 116,-252.5 \"/>\n<text text-anchor=\"middle\" x=\"38.5\" y=\"-238.9\" font-family=\"Courier,monospace\" font-size=\"12.00\" fill=\"#000000\">v:262144</text>\n<polyline fill=\"none\" stroke=\"#000000\" points=\"77,-231.5 77,-252.5 \"/>\n<text text-anchor=\"middle\" x=\"96.5\" y=\"-238.9\" font-family=\"Courier,monospace\" font-size=\"12.00\" fill=\"#000000\">v:4</text>\n</g>\n<!-- vars&#45;&gt;0 -->\n<g id=\"edge2\" class=\"edge\">\n<title>vars:0&#45;&gt;0:0</title>\n<path fill=\"none\" stroke=\"#000000\" stroke-dasharray=\"1,5\" d=\"M37.9171,-36.6381C36.8061,-47.2257 35.5561,-60.8507 35,-73 31.7782,-143.3834 38,-161.0429 38,-231.5\"/>\n</g>\n<!-- vars&#45;&gt;0 -->\n<g id=\"edge3\" class=\"edge\">\n<title>vars:0&#45;&gt;0:1</title>\n<path fill=\"none\" stroke=\"#000000\" stroke-dasharray=\"1,5\" d=\"M66.0585,-36.5885C66.3723,-36.7294 66.6862,-36.8667 67,-37 140.0824,-68.0538 191.8259,-11.4537 242,-73 277.0305,-115.9703 254.0333,-154.6634 216,-195 186.1617,-226.6453 160.4132,-205.7481 125,-231 119.9956,-234.5685 122.1464,-241.5 116,-241.5\"/>\n</g>\n<!-- 2 -->\n<g id=\"node3\" class=\"node\">\n<title>2</title>\n<polygon fill=\"none\" stroke=\"#000000\" points=\"91,-152.5 91,-194.5 207,-194.5 207,-152.5 91,-152.5\"/>\n<text text-anchor=\"middle\" x=\"149\" y=\"-180.9\" font-family=\"Courier,monospace\" font-size=\"12.00\" fill=\"#000000\">add : [v]</text>\n<polyline fill=\"none\" stroke=\"#000000\" points=\"91,-173.5 207,-173.5 \"/>\n<text text-anchor=\"middle\" x=\"129.5\" y=\"-159.9\" font-family=\"Courier,monospace\" font-size=\"12.00\" fill=\"#000000\">v:262144</text>\n<polyline fill=\"none\" stroke=\"#000000\" points=\"168,-152.5 168,-173.5 \"/>\n<text text-anchor=\"middle\" x=\"187.5\" y=\"-159.9\" font-family=\"Courier,monospace\" font-size=\"12.00\" fill=\"#000000\">v:4</text>\n</g>\n<!-- vars&#45;&gt;2 -->\n<g id=\"edge8\" class=\"edge\">\n<title>vars:0&#45;&gt;2:0</title>\n<path fill=\"none\" stroke=\"#000000\" stroke-dasharray=\"1,5\" d=\"M38.6096,-36.7377C36.6799,-75.4861 38.222,-162.5 91,-162.5\"/>\n</g>\n<!-- vars&#45;&gt;2 -->\n<g id=\"edge9\" class=\"edge\">\n<title>vars:0&#45;&gt;2:1</title>\n<path fill=\"none\" stroke=\"#000000\" stroke-dasharray=\"1,5\" d=\"M66.0639,-36.5759C66.376,-36.7208 66.6881,-36.8623 67,-37 130.9018,-65.2233 176.6278,-18.2382 220,-73 244.956,-104.5095 247.1952,-162.5 207,-162.5\"/>\n</g>\n<!-- 1 -->\n<g id=\"node4\" class=\"node\">\n<title>1</title>\n<polygon fill=\"none\" stroke=\"#000000\" points=\"134,-231.5 134,-273.5 258,-273.5 258,-231.5 134,-231.5\"/>\n<text text-anchor=\"middle\" x=\"196\" y=\"-259.9\" font-family=\"Courier,monospace\" font-size=\"12.00\" fill=\"#000000\">read : [v]</text>\n<polyline fill=\"none\" stroke=\"#000000\" points=\"134,-252.5 258,-252.5 \"/>\n<text text-anchor=\"middle\" x=\"165\" y=\"-238.9\" font-family=\"Courier,monospace\" font-size=\"12.00\" fill=\"#000000\">v:1024</text>\n<polyline fill=\"none\" stroke=\"#000000\" points=\"196,-231.5 196,-252.5 \"/>\n<text text-anchor=\"middle\" x=\"227\" y=\"-238.9\" font-family=\"Courier,monospace\" font-size=\"12.00\" fill=\"#000000\">v:1024</text>\n</g>\n<!-- vars&#45;&gt;1 -->\n<g id=\"edge5\" class=\"edge\">\n<title>vars:0&#45;&gt;1:0</title>\n<path fill=\"none\" stroke=\"#000000\" stroke-dasharray=\"1,5\" d=\"M66.0543,-36.5985C66.3695,-36.7362 66.6848,-36.8701 67,-37 149.2972,-70.899 207.0005,-4.6404 264,-73 299.1001,-115.0955 280.7071,-152.5799 246,-195 220.9959,-225.5607 165,-192.0138 165,-231.5\"/>\n</g>\n<!-- vars&#45;&gt;1 -->\n<g id=\"edge6\" class=\"edge\">\n<title>vars:0&#45;&gt;1:1</title>\n<path fill=\"none\" stroke=\"#000000\" stroke-dasharray=\"1,5\" d=\"M66.0509,-36.6069C66.3671,-36.7419 66.6836,-36.8731 67,-37 158.9568,-73.8841 222.8469,2.5041 287,-73 336.2034,-130.9093 333.9899,-241.5 258,-241.5\"/>\n</g>\n<!-- 3 -->\n<g id=\"node5\" class=\"node\">\n<title>3</title>\n<polygon fill=\"none\" stroke=\"#000000\" points=\"87,-73.5 87,-115.5 211,-115.5 211,-73.5 87,-73.5\"/>\n<text text-anchor=\"middle\" x=\"149\" y=\"-101.9\" font-family=\"Courier,monospace\" font-size=\"12.00\" fill=\"#000000\">write : [v]</text>\n<polyline fill=\"none\" stroke=\"#000000\" points=\"87,-94.5 211,-94.5 \"/>\n<text text-anchor=\"middle\" x=\"118\" y=\"-80.9\" font-family=\"Courier,monospace\" font-size=\"12.00\" fill=\"#000000\">v:1024</text>\n<polyline fill=\"none\" stroke=\"#000000\" points=\"149,-73.5 149,-94.5 \"/>\n<text text-anchor=\"middle\" x=\"180\" y=\"-80.9\" font-family=\"Courier,monospace\" font-size=\"12.00\" fill=\"#000000\">v:1024</text>\n</g>\n<!-- vars&#45;&gt;3 -->\n<g id=\"edge10\" class=\"edge\">\n<title>vars:0&#45;&gt;3:0</title>\n<path fill=\"none\" stroke=\"#000000\" stroke-dasharray=\"1,5\" d=\"M50.984,-36.6061C62.9565,-55.8391 81.186,-83.5 87,-83.5\"/>\n</g>\n<!-- vars&#45;&gt;3 -->\n<g id=\"edge11\" class=\"edge\">\n<title>vars:0&#45;&gt;3:1</title>\n<path fill=\"none\" stroke=\"#000000\" stroke-dasharray=\"1,5\" d=\"M66.0807,-36.5399C66.3875,-36.6963 66.694,-36.8497 67,-37 114.3712,-60.2681 180,-20.7228 180,-73.5\"/>\n</g>\n<!-- 0&#45;&gt;2 -->\n<g id=\"edge1\" class=\"edge\">\n<title>0&#45;&gt;2</title>\n<path fill=\"none\" stroke=\"#000000\" d=\"M82.3863,-231.3294C92.9947,-222.12 105.5706,-211.2024 116.9223,-201.3477\"/>\n<polygon fill=\"#000000\" stroke=\"#000000\" points=\"119.2894,-203.9276 124.5464,-194.729 114.7004,-198.6416 119.2894,-203.9276\"/>\n</g>\n<!-- 2&#45;&gt;3 -->\n<g id=\"edge7\" class=\"edge\">\n<title>2&#45;&gt;3</title>\n<path fill=\"none\" stroke=\"#000000\" d=\"M149,-152.3294C149,-144.1826 149,-134.6991 149,-125.7971\"/>\n<polygon fill=\"#000000\" stroke=\"#000000\" points=\"152.5001,-125.729 149,-115.729 145.5001,-125.729 152.5001,-125.729\"/>\n</g>\n<!-- 1&#45;&gt;2 -->\n<g id=\"edge4\" class=\"edge\">\n<title>1&#45;&gt;2</title>\n<path fill=\"none\" stroke=\"#000000\" d=\"M183.4049,-231.3294C178.2946,-222.7398 172.3003,-212.6644 166.7596,-203.3512\"/>\n<polygon fill=\"#000000\" stroke=\"#000000\" points=\"169.7508,-201.5335 161.6299,-194.729 163.735,-205.1126 169.7508,-201.5335\"/>\n</g>\n</g>\n</svg>\n"
          },
          "metadata": {},
          "execution_count": 22
        }
      ]
    },
    {
      "cell_type": "code",
      "metadata": {
        "id": "mNmH9G8mRK96",
        "colab": {
          "base_uri": "https://localhost:8080/"
        },
        "outputId": "2776f8b8-9694-409d-89aa-b2047e7a564a"
      },
      "source": [
        "loop_tree = lt.LoopTree(ir)\n",
        "print(loop_tree)\n",
        "print(\"bad schedule :( let's change it\")"
      ],
      "execution_count": null,
      "outputs": [
        {
          "output_type": "stream",
          "name": "stdout",
          "text": [
            "for v_269 in 262144 : L0\n",
            " for v_269' in 4 : L1\n",
            "  %0[v_269] <- read()\n",
            "for v_269 in 1024 : L3\n",
            " for v_269' in 1024 : L4\n",
            "  %1[v_269] <- read()\n",
            "for v_269 in 262144 : L6\n",
            " for v_269' in 4 : L7\n",
            "  %2[v_269] <- add(%0, %1)\n",
            "for v_269 in 1024 : L9\n",
            " for v_269' in 1024 : L10\n",
            "  %3[v_269] <- write(%2)\n",
            "\n",
            "bad schedule :( let's change it\n"
          ]
        }
      ]
    },
    {
      "cell_type": "code",
      "metadata": {
        "id": "cQhp-3LeOznf",
        "colab": {
          "base_uri": "https://localhost:8080/"
        },
        "outputId": "7ae2c7c6-349b-46b0-9477-53480cc82366"
      },
      "source": [
        "for n in ir.nodes:\n",
        "  parallel = 8 * 1024 if backend == \"cuda\" else 2\n",
        "  inner = 4 if backend == \"cuda\" else 512\n",
        "  size = N // (parallel * inner)\n",
        "  tail = N % (parallel * inner)\n",
        "  ir.set_order(n, [(v, (size, tail)), (v, (parallel, 0)), (v, (inner, 0))])\n",
        "\n",
        "loop_tree = lt.LoopTree(ir)\n",
        "loop_tree.annotate(loop_tree.loops[1], \"parallel\")\n",
        "print(loop_tree)"
      ],
      "execution_count": null,
      "outputs": [
        {
          "output_type": "stream",
          "name": "stdout",
          "text": [
            "for v_269 in 32 : L0\n",
            " for v_269' in 8192 : L1 parallel\n",
            "  for v_269'' in 4 : L2\n",
            "   %0[v_269] <- read()\n",
            "   %1[v_269] <- read()\n",
            "   %2[v_269] <- add(%0, %1)\n",
            "   %3[v_269] <- write(%2)\n",
            "\n"
          ]
        }
      ]
    },
    {
      "cell_type": "code",
      "metadata": {
        "id": "iij4YRjjQAMj",
        "colab": {
          "base_uri": "https://localhost:8080/"
        },
        "outputId": "649c967d-9a8c-4f6a-ca8a-8bc265276faa"
      },
      "source": [
        "c.set(loop_tree)\n",
        "bench(10, 1000)"
      ],
      "execution_count": null,
      "outputs": [
        {
          "output_type": "stream",
          "name": "stdout",
          "text": [
            "848.26 iters/sec\n"
          ]
        }
      ]
    },
    {
      "cell_type": "markdown",
      "metadata": {
        "id": "6WSYV8xdTM5g"
      },
      "source": [
        "And now we have a faster implementation!\n",
        "\n",
        "Note that we haven't hit anywhere near peak performance.  Right now the lazy symbolic API syncs GPU calls every run.  If we were to employ a lower level API, we can actually get to peak.  Here's a notebook that'll do just that. https://colab.research.google.com/drive/1rUl23Y4WTSBd-J5dkbn6dNgBU5XA7fMB"
      ]
    },
    {
      "cell_type": "markdown",
      "metadata": {
        "id": "WGOdiw0fV9P3"
      },
      "source": [
        "# Thanks for reading!\n",
        "\n",
        "`loop_tool` is still in early stages of development.  There are many planned features on the way, including compiled CPU support and automatic differentiation.\n",
        "\n",
        "If you'd like to follow along, here's the GitHub repo: https://github.com/facebookresearch/loop_tool "
      ]
    }
  ]
}
